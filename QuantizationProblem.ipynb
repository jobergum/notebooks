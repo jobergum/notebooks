{
 "cells": [
  {
   "cell_type": "code",
   "execution_count": 1,
   "id": "1e0c3889",
   "metadata": {},
   "outputs": [
    {
     "name": "stdout",
     "output_type": "stream",
     "text": [
      "--2021-10-28 12:53:19--  https://data.vespa.oath.cloud/onnx_models/msmarco_multilingual.onnx\n",
      "Resolving data.vespa.oath.cloud (data.vespa.oath.cloud)... 2600:9000:2181:5600:e:b7f6:8c00:93a1, 2600:9000:2181:1600:e:b7f6:8c00:93a1, 2600:9000:2181:9600:e:b7f6:8c00:93a1, ...\n",
      "Connecting to data.vespa.oath.cloud (data.vespa.oath.cloud)|2600:9000:2181:5600:e:b7f6:8c00:93a1|:443... connected.\n",
      "HTTP request sent, awaiting response... 200 OK\n",
      "Length: 428017218 (408M) [binary/octet-stream]\n",
      "Saving to: ‘msmarco_multilingual.onnx’\n",
      "\n",
      "msmarco_multilingua 100%[===================>] 408,19M   860KB/s    in 7m 19s  \n",
      "\n",
      "2021-10-28 13:00:38 (953 KB/s) - ‘msmarco_multilingual.onnx’ saved [428017218/428017218]\n",
      "\n"
     ]
    }
   ],
   "source": [
    "!wget https://data.vespa.oath.cloud/onnx_models/msmarco_multilingual.onnx "
   ]
  },
  {
   "cell_type": "code",
   "execution_count": 3,
   "id": "7401e23a",
   "metadata": {},
   "outputs": [
    {
     "name": "stdout",
     "output_type": "stream",
     "text": [
      "Name: onnxruntime\n",
      "Version: 1.9.0\n",
      "Summary: ONNX Runtime is a runtime accelerator for Machine Learning models\n",
      "Home-page: https://onnxruntime.ai\n",
      "Author: Microsoft Corporation\n",
      "Author-email: onnxruntime@microsoft.com\n",
      "License: MIT License\n",
      "Location: /usr/local/anaconda3/lib/python3.8/site-packages\n",
      "Requires: protobuf, numpy, flatbuffers\n",
      "Required-by: \n",
      "---\n",
      "Name: torch\n",
      "Version: 1.7.0\n",
      "Summary: Tensors and Dynamic neural networks in Python with strong GPU acceleration\n",
      "Home-page: https://pytorch.org/\n",
      "Author: PyTorch Team\n",
      "Author-email: packages@pytorch.org\n",
      "License: BSD-3\n",
      "Location: /usr/local/anaconda3/lib/python3.8/site-packages\n",
      "Requires: future, dataclasses, typing-extensions, numpy\n",
      "Required-by: torchvision, torchmetrics, sentence-transformers, pytorch-lightning, optimum, reranker\n"
     ]
    }
   ],
   "source": [
    "!pip3 show onnxruntime torch "
   ]
  },
  {
   "cell_type": "code",
   "execution_count": 4,
   "id": "6c331919",
   "metadata": {},
   "outputs": [],
   "source": [
    "import onnxruntime as ort\n",
    "import numpy as np\n",
    "session = ort.InferenceSession(\"msmarco_multilingual.onnx\")"
   ]
  },
  {
   "cell_type": "code",
   "execution_count": 5,
   "id": "d1c20fdc",
   "metadata": {},
   "outputs": [],
   "source": [
    "model_input = {'input_ids': np.array([[     0,     10,     41,   1294,      2,      2,     10, 149357,\n",
    "             2]]), 'attention_mask': np.array([[1, 1, 1, 1, 1, 1, 1, 1, 1]])}"
   ]
  },
  {
   "cell_type": "code",
   "execution_count": 6,
   "id": "f72d3d24",
   "metadata": {},
   "outputs": [
    {
     "data": {
      "text/plain": [
       "[array([[1.8985014]], dtype=float32)]"
      ]
     },
     "execution_count": 6,
     "metadata": {},
     "output_type": "execute_result"
    }
   ],
   "source": [
    "session.run(input_feed=model_input,output_names=['output_0'])"
   ]
  },
  {
   "cell_type": "code",
   "execution_count": 7,
   "id": "140697c7",
   "metadata": {},
   "outputs": [],
   "source": [
    "from onnxruntime.quantization import quantize_dynamic, QuantType"
   ]
  },
  {
   "cell_type": "code",
   "execution_count": 8,
   "id": "b45f7b4a",
   "metadata": {},
   "outputs": [],
   "source": [
    "quantize_dynamic(\"msmarco_multilingual.onnx\", \"msmarco_multilingual_int8.onnx\", weight_type=QuantType.QUInt8)"
   ]
  },
  {
   "cell_type": "code",
   "execution_count": 9,
   "id": "15ca8d38",
   "metadata": {},
   "outputs": [],
   "source": [
    "session_int8 = ort.InferenceSession(\"msmarco_multilingual_int8.onnx\")"
   ]
  },
  {
   "cell_type": "code",
   "execution_count": 10,
   "id": "78798db7",
   "metadata": {},
   "outputs": [
    {
     "data": {
      "text/plain": [
       "[array([[-3.6614985]], dtype=float32)]"
      ]
     },
     "execution_count": 10,
     "metadata": {},
     "output_type": "execute_result"
    }
   ],
   "source": [
    "session_int8.run(input_feed=model_input,output_names=['output_0'])"
   ]
  },
  {
   "cell_type": "code",
   "execution_count": null,
   "id": "94c37202",
   "metadata": {},
   "outputs": [],
   "source": []
  }
 ],
 "metadata": {
  "kernelspec": {
   "display_name": "Python 3 (ipykernel)",
   "language": "python",
   "name": "python3"
  },
  "language_info": {
   "codemirror_mode": {
    "name": "ipython",
    "version": 3
   },
   "file_extension": ".py",
   "mimetype": "text/x-python",
   "name": "python",
   "nbconvert_exporter": "python",
   "pygments_lexer": "ipython3",
   "version": "3.8.5"
  }
 },
 "nbformat": 4,
 "nbformat_minor": 5
}
